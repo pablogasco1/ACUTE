{
 "cells": [
  {
   "cell_type": "code",
   "execution_count": 1,
   "metadata": {},
   "outputs": [],
   "source": [
    "import os\n",
    "import pandas as pd\n",
    "\n",
    "# Define the root folder\n",
    "root_folder = 'data/external/drones'\n",
    "\n",
    "# List to hold individual DataFrames\n",
    "dataframes = []\n",
    "\n",
    "# Walk through the directory structure\n",
    "for subdir, _, files in os.walk(root_folder):\n",
    "    for file in files:\n",
    "        # Check if the file is a Parquet file\n",
    "        if file.endswith('.parquet'):\n",
    "            file_path = os.path.join(subdir, file)\n",
    "            # Read the Parquet file into a DataFrame\n",
    "            df = pd.read_parquet(file_path)\n",
    "            dataframes.append(df)\n",
    "\n",
    "# Concatenate all DataFrames into one\n",
    "df = pd.concat(dataframes, ignore_index=True)\n",
    "\n",
    "# Ensure columns are numeric\n",
    "for col in ['altitude', 'elevation', 'home_height']:\n",
    "    df[col] = pd.to_numeric(df[col], errors='coerce')  # Convert to numeric, coercing errors to NaN\n",
    "\n",
    "# Fill missing values\n",
    "df['altitude'] = df['altitude'].fillna(df['elevation'] + df['home_height'])\n",
    "df['elevation'] = df['elevation'].fillna(df['altitude'] - df['home_height'])\n",
    "df = df[(~df.elevation.isnull()) & (~df.altitude.isnull())]\n",
    "df.elevation = df.elevation.astype(int)\n",
    "df.altitude = df.altitude.astype(int)\n",
    "df.drop(columns={\"gps\", \"rssi\"}, inplace=True)"
   ]
  },
  {
   "cell_type": "code",
   "execution_count": 2,
   "metadata": {},
   "outputs": [],
   "source": [
    "df.to_parquet(\"data/processed/drone_data_23_24_25.parquet\")"
   ]
  }
 ],
 "metadata": {
  "kernelspec": {
   "display_name": "acute",
   "language": "python",
   "name": "python3"
  },
  "language_info": {
   "codemirror_mode": {
    "name": "ipython",
    "version": 3
   },
   "file_extension": ".py",
   "mimetype": "text/x-python",
   "name": "python",
   "nbconvert_exporter": "python",
   "pygments_lexer": "ipython3",
   "version": "3.12.3"
  }
 },
 "nbformat": 4,
 "nbformat_minor": 2
}
