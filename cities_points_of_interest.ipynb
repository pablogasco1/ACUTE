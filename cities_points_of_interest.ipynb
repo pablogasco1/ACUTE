{
 "cells": [
  {
   "cell_type": "code",
   "execution_count": 57,
   "metadata": {},
   "outputs": [
    {
     "name": "stdout",
     "output_type": "stream",
     "text": [
      "['CYP.xlsx', 'BUC.xlsx', 'BRU.xlsx', 'BDX.xlsx', 'LON.xlsx', 'LUX.xlsx', 'ZUR.xlsx', 'BEL.xlsx', 'CDG.xlsx']\n"
     ]
    }
   ],
   "source": [
    "import os\n",
    "import pandas as pd\n",
    "\n",
    "# Define the root folder\n",
    "folder_path = 'data/processed/cities'\n",
    "\n",
    "# List all Excel files in the folder\n",
    "excel_files = [f for f in os.listdir(folder_path) if f.endswith(('.xlsx', '.xls'))]\n",
    "print(excel_files)\n",
    "# Initialize an empty list to store DataFrames\n",
    "dataframes = []\n",
    "\n",
    "for file in excel_files:\n",
    "    file_path = os.path.join(folder_path, file)\n",
    "    \n",
    "    if file!=\"ZUR.xlsx\":\n",
    "        continue\n",
    "    try:\n",
    "        # Read the Excel file into a DataFrame\n",
    "        df = pd.read_excel(file_path)\n",
    "        \n",
    "        # Rename the first column to \"cluster\" and set it as the index\n",
    "        df.rename(columns={df.columns[0]: \"cluster\"}, inplace=True)\n",
    "        df.set_index(\"cluster\", inplace=True)\n",
    "        \n",
    "        # Remove the last row of the DataFrame\n",
    "        df = df.iloc[:-1, :-1]\n",
    "        \n",
    "        # Append the processed DataFrame to the list\n",
    "        dataframes.append(df)\n",
    "    except Exception as e:\n",
    "        print(f\"Error reading {file}: {e}\")\n",
    "\n",
    "# # Concatenate all DataFrames into one, ignoring index\n",
    "combined_df = pd.concat(dataframes, axis=0).fillna(0).reset_index().drop(columns=\"cluster\")\n",
    "new_columns = [col.split('_', 1) if '_' in col else [\"general\", col] for col in combined_df.columns]\n",
    "\n",
    "combined_df.columns = pd.MultiIndex.from_tuples(new_columns, names=[\"Category\", \"Type\"])\n",
    "combined_df.sort_index(axis=1, inplace=True)\n",
    "\n",
    "# Drop columns where all values are 0\n",
    "#combined_df = combined_df.loc[:, (combined_df > 0).any(axis=0)]\n",
    "\n",
    "# Calculate total for each numeric column\n",
    "totals = combined_df.select_dtypes(include=\"number\").sum()\n",
    "\n",
    "# Add a row called \"Total\" at the bottom\n",
    "total_row = pd.DataFrame([totals], index=[\"Total\"])\n",
    "\n",
    "# Adjust for multi-index columns\n",
    "total_row.columns = combined_df.columns  # Ensures alignment with multi-index structure\n",
    "combined_df = pd.concat([combined_df, total_row])"
   ]
  },
  {
   "cell_type": "code",
   "execution_count": 58,
   "metadata": {},
   "outputs": [
    {
     "name": "stdout",
     "output_type": "stream",
     "text": [
      "leisure-park\n",
      "tourism-museum\n"
     ]
    }
   ],
   "source": [
    "for i, j in combined_df.iloc[-1][combined_df.iloc[-1] > 1].index.values:\n",
    "    print(f\"{i}-{j}\")"
   ]
  },
  {
   "cell_type": "code",
   "execution_count": 59,
   "metadata": {},
   "outputs": [
    {
     "data": {
      "text/html": [
       "<div>\n",
       "<style scoped>\n",
       "    .dataframe tbody tr th:only-of-type {\n",
       "        vertical-align: middle;\n",
       "    }\n",
       "\n",
       "    .dataframe tbody tr th {\n",
       "        vertical-align: top;\n",
       "    }\n",
       "\n",
       "    .dataframe thead tr th {\n",
       "        text-align: left;\n",
       "    }\n",
       "</style>\n",
       "<table border=\"1\" class=\"dataframe\">\n",
       "  <thead>\n",
       "    <tr>\n",
       "      <th>Category</th>\n",
       "      <th colspan=\"7\" halign=\"left\">amenity</th>\n",
       "      <th>boundary</th>\n",
       "      <th colspan=\"2\" halign=\"left\">building</th>\n",
       "      <th>...</th>\n",
       "      <th>natural</th>\n",
       "      <th>office</th>\n",
       "      <th colspan=\"2\" halign=\"left\">place</th>\n",
       "      <th colspan=\"5\" halign=\"left\">tourism</th>\n",
       "      <th>waterway</th>\n",
       "    </tr>\n",
       "    <tr>\n",
       "      <th>Type</th>\n",
       "      <th>bench</th>\n",
       "      <th>fountain</th>\n",
       "      <th>luggage_locker</th>\n",
       "      <th>parking</th>\n",
       "      <th>place_of_worship</th>\n",
       "      <th>ranger_station</th>\n",
       "      <th>theatre</th>\n",
       "      <th>administrative</th>\n",
       "      <th>public</th>\n",
       "      <th>yes</th>\n",
       "      <th>...</th>\n",
       "      <th>water</th>\n",
       "      <th>company</th>\n",
       "      <th>house</th>\n",
       "      <th>square</th>\n",
       "      <th>artwork</th>\n",
       "      <th>attraction</th>\n",
       "      <th>information</th>\n",
       "      <th>museum</th>\n",
       "      <th>viewpoint</th>\n",
       "      <th>waterfall</th>\n",
       "    </tr>\n",
       "  </thead>\n",
       "  <tbody>\n",
       "    <tr>\n",
       "      <th>Total</th>\n",
       "      <td>0</td>\n",
       "      <td>0</td>\n",
       "      <td>0</td>\n",
       "      <td>0</td>\n",
       "      <td>0</td>\n",
       "      <td>0</td>\n",
       "      <td>0</td>\n",
       "      <td>0</td>\n",
       "      <td>0</td>\n",
       "      <td>0</td>\n",
       "      <td>...</td>\n",
       "      <td>0</td>\n",
       "      <td>0</td>\n",
       "      <td>1</td>\n",
       "      <td>0</td>\n",
       "      <td>0</td>\n",
       "      <td>0</td>\n",
       "      <td>0</td>\n",
       "      <td>2</td>\n",
       "      <td>0</td>\n",
       "      <td>0</td>\n",
       "    </tr>\n",
       "  </tbody>\n",
       "</table>\n",
       "<p>1 rows × 30 columns</p>\n",
       "</div>"
      ],
      "text/plain": [
       "Category amenity                                                   \\\n",
       "Type       bench fountain luggage_locker parking place_of_worship   \n",
       "Total          0        0              0       0                0   \n",
       "\n",
       "Category                              boundary building      ... natural  \\\n",
       "Type     ranger_station theatre administrative   public yes  ...   water   \n",
       "Total                 0       0              0        0   0  ...       0   \n",
       "\n",
       "Category  office place        tourism                                          \\\n",
       "Type     company house square artwork attraction information museum viewpoint   \n",
       "Total          0     1      0       0          0           0      2         0   \n",
       "\n",
       "Category  waterway  \n",
       "Type     waterfall  \n",
       "Total            0  \n",
       "\n",
       "[1 rows x 30 columns]"
      ]
     },
     "execution_count": 59,
     "metadata": {},
     "output_type": "execute_result"
    }
   ],
   "source": [
    "combined_df.iloc[[-1]]"
   ]
  }
 ],
 "metadata": {
  "kernelspec": {
   "display_name": "acute",
   "language": "python",
   "name": "python3"
  },
  "language_info": {
   "name": "python",
   "version": "3.12.3"
  }
 },
 "nbformat": 4,
 "nbformat_minor": 2
}
